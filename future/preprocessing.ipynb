{
 "cells": [
  {
   "cell_type": "markdown",
   "metadata": {},
   "source": [
    "## Introduction\n",
    "\n",
    "In any machine learning task, cleaning or preprocessing the data is as important as model building if not more. And when it comes to unstructured data like text, this process is even more important. \n",
    "\n",
    "Objective of this kernel is to understand the various text preprocessing steps with code examples. \n",
    "\n",
    "Some of the common text preprocessing / cleaning steps are:\n",
    "* Lower casing\n",
    "* Removal of Punctuations\n",
    "* Removal of Stopwords\n",
    "* Removal of Frequent words\n",
    "* Removal of Rare words\n",
    "* Stemming\n",
    "* Lemmatization\n",
    "* Removal of emojis\n",
    "* Removal of emoticons\n",
    "* Conversion of emoticons to words\n",
    "* Conversion of emojis to words\n",
    "* Removal of URLs \n",
    "* Removal of HTML tags\n",
    "* Chat words conversion\n",
    "* Spelling correction\n",
    "\n",
    "\n",
    "So these are the different types of text preprocessing steps which we can do on text data. But we need not do all of these all the times. We need to carefully choose the preprocessing steps based on our use case since that also play an important role. \n",
    "\n",
    "For example, in sentiment analysis use case, we need not remove the emojis or emoticons as it will convey some important information about the sentiment. Similarly we need to decide based on our use cases. "
   ]
  },
  {
   "cell_type": "code",
   "execution_count": 2,
   "metadata": {
    "_cell_guid": "b1076dfc-b9ad-4769-8c92-a6c4dae69d19",
    "_uuid": "8f2839f25d086af736a60e9eeb907d3b93b6e0e5"
   },
   "outputs": [
    {
     "data": {
      "text/plain": [
       "\"Below are our details of products\\nFeatured products:\\nFuture Generali single premium anchor plan\\nfuture generali new assured wealth plan\\nfuture generali long term income plan\\nfuture generali money back super plan\\nfuture generali lifetime partner plan\\nfuture generali assured income plan\\nfuture generali new assure plus\\nfuture generali bima advantage plus\\nfuture generali dhan vridhi\\nfuture generali Heart and health insurance plan\\nServices offered:\\nTerm Insurance plans\\nEndowment Plan\\nULIPs (Unit Linked Insurance Plans)\\nHealth insurance plans\\nchild plans\\nretirement plans\\nsavings plan\\nOffice location *Redirect to branch locator*\\nhttps://life.futuregenerali.in/branch-locator/\\nThe pricing or premiums for products can be calculated using the calculator under \\nthe calculate premium tab in the website\\nHow are our products better than competition\\n95.04% Individual claims settlement ratio for FY 2022-23\\n1.5 Million lives covered\\nFuture Generali India Life Insurance Company Limited offers an extensive range of \\nlife insurance products, and a distribution network that ensures we are close to \\nyou wherever you go.\\nAt the heart of our ambition is the promise to be a lifetime partner to our \\ncustomers. And with the help of technology, we are making the shift from not only \\noffering protection to our customers but also providing personalized services to \\nthem.\\nIt starts with our extensive agent base which is at the core of this \\ntransformation. Through our distribution network, we ensure that there is always a \\ncaring touch while servicing the individual needs of our customers. With this \\nphilosophy, we aim to make simplicity, innovation, empathy and care synonymous with\\nour brand - Future Generali India Life Insurance Company Limited.Established in 1831, it is present in over 50 countries in the world, with a total \\npremium income of €82.5 billion in 2023. With 82,000 employees serving 70 million \\ncustomers, the Group has a leading position in Europe and a growing presence in \\nAsia and Latin America.\\nBelow are the details for the features of products\\nFuture Generali single premium anchor plan: An Individual, Non-Linked, \\nNon-Participating (without profits), Savings, Life Insurance Plan. By just making a\\nsingle premium payment in the Future Generali Single Premium Anchor Plan, you can \\nget a lumpsum payment or a steady income as per the plan option chosen. Know more \\nat: \\nhttps://life.futuregenerali.in/insurance-plans/savings-plans/single-premium-anchor-\\nplan\\nFuture generali new assured wealth plan: the Future Generali New Assured Wealth \\nPlan is a Life Insurance Plan that gives you financial security in form of lumpsum \\ndeath benefit and a guaranteed lump sum amount at the end of your policy term. It \\nalso gives you Guaranteed Additions every year from 8th year, calculated at a \\nsimple percent rate of the Sum Assured. So that you don’t have to worry about the \\nrising cost of living. Know more at: \\nhttps://life.futuregenerali.in/insurance-plans/guaranteed-plans/new-assured-wealth-\\nplan-non-pos-variant\\nfuture generali long term income plan: A Life Insurance Savings Plan that provides \\nyou long-term financial support through guaranteed long-term income, that too \\nincreasing with time along with much-needed life protection for you and your \\nfamily, so that you enjoy all your life milestones without any worry. Know more at:\\nhttps://life.futuregenerali.in/insurance-plans/guaranteed-plans/future-generali-lon\\ng-term-income-plan\\nfuture generali money back super plan: the Future Generali Money Back Super Plan is\\na savings life insurance plan which offers guaranteed money backs at defined \\nintervals along with the benefit of a life insurance cover. With the promise of \\nstable returns and adequate protection coverage, you can now prepare for a \\ncomfortable life. Know more at: \\nhttps://life.futuregenerali.in/insurance-plans/guaranteed-plans/money-back-super-pl\\nan-non-pos-variant\\nfuture generali lifetime partner plan: Presenting the Future Generali Lifetime \\nPartner Plan, a Life Insurance Plan that provides a much needed protection to your \\nfamily, along with a regular income for whole of your life, up to age 100. It also \\nprovides you potential upside on the income, through cash bonuses (if declared). \\nThere are two options to choose from: \\nOption 1) Immediate Income - With this option, get a guaranteed income along with cash bonus, if declared, from the first year as defined below under the survival \\nbenefits section.\\nOption 2) Deferred Income - With this option, get a guaranteed income along with \\ncash bonus, if declared, from premium payment term plus 3 years as defined below \\nunder the survival benefits section. Know more at: \\nhttps://life.futuregenerali.in/insurance-plans/traditional-plans/future-generali-li\\nfetime-partner-plan\\nfuture generali assured income plan: Our Future Generali Assured Income Plan is a \\nlife insurance plan that provides life cover and ensures that you get guaranteed \\nreturns on your premiums.This plan comes with 2 term options, at the end of which \\nyou enjoy regular assured annual income plus an additional benefit ranging from 1 \\nto 4.5 times your annualized premium depending on life assured's age. What’s more, \\nthe life assured gets a death cover and is sure that his/her savings are safe and \\nmultiplying. Know more at: \\nhttps://life.futuregenerali.in/insurance-plans/guaranteed-plans/assured-income-plan\\nfuture generali new assure plus: It is a life insurance plan which emopowers you to\\nfortify your family's financial future with one or two payouts, depending on the \\nchoice of plan you make. With this plan in your portfolio, you can be rest assured \\nthat the hard work you've put in to keep your family safe and sound will never get \\nundone. It has the following features: \\n1) Flexibility to choose any combination of Policy Term and Premium Payment Term \\nbased on your financial goals.\\n2) Opportunity to enhance your Maturity Payout by way of Bonuses.\\n3) Option to choose between 2 Death Benefit Payout Options.\\n4) Tax Benefits under section 80C and 10(10D) as per the prevailing tax laws\\nfuture generali bima advantage plus: Future Generali Bima Advantage Plus is an \\nindividual, unit-linked, non participating life insurance plan that not only helps \\nyou build wealth, but also offers you the added advantage of protection. It also \\noffers a wide choice of investment funds to match your risk appetite and a host of \\nother flexible options for your unique needs. So, don't settle for just any ULIP. \\nDemand more with Future Generali Bima Advantage Plus. \\nMaturity Benefits) On maturity of the policy, the fund value as on the date of \\nmaturity is payable to the life assured.\\nDeath Benefits) In case of an unfortunate demise of the life assured during the \\npolicy term while the policy is in force, the nominee receives the higher of Sum \\nAssured less Deductible Partial Withdrawal, if any or Fund Value or 105% of basic \\npremiums paid till date of death less deductible partial withdrawals, if any. Know \\nmore at: \\nhttps://life.futuregenerali.in/insurance-plans/ulip-plans/bima-advantage-plus\\nfuture generali dhan vridhi: This is a Limited Premium Payment ULIP with the right \\nblend of Protection & Investment to meet your medium to long term financial goals. features are: \\nFlexibility to make fund switches to maximize returns\\nPartial withdrawal can be made after 5 policy years from inception.\\nChoice of seven robust unit funds to match your risk appetite.\\nPremium(s) paid are eligible for tax benefit as may be available under the \\nprovisions of Section(s) 80C and 10(10D) as applicable.\\nKnow more at: https://life.futuregenerali.in/insurance-plans/ulip-plans/dhan-vridhi\\nfuture generali Heart and health insurance plan: Presenting the Future Generali \\nHeart and Health Insurance Plan, a comprehensive health protection plan, that \\nsafeguards you and your family against financial risks arising out of any defined \\nunforeseen medical emergency. The health insurance plan provides a fixed financial \\nbenefit that will help you cover medical costs, especially in case of critical \\nillness which require a long term treatment, cost of second opinions, post \\ntreatment nursing and above all a loss of income during the affected period. Know \\nmore at: \\nhttps://life.futuregenerali.in/insurance-plans/health-insurance-plans/heart-and-hea\\nlth-insurance-plan\\nFeatures of Future Generali single premium anchor plan are:\\n1) One Payment Many Benefits: Get the convenience of a single premium policy and \\navoid the hassle of remembering and making multiple payments.\\n2) Choice of Options: Choose according to your goals! With the Future Generali \\nSingle Premium Anchor Plan you can decide which plan option and payout option works\\nbest for you and your loved ones.\\n3) Assured Protection: Secure your family’s happiness as the Future Generali Single\\nPremium Anchor Plan offers life cover throughout the policy term.\\n4) Guaranteed Lumpsum Benefit: Whether you choose the wealth option or the income \\noption, you get a guaranteed lumpsum benefit at the maturity.\\n5) Guaranteed Long-Term Income: You get an option to earn guaranteed income from as\\nearly as next month till the end of the Policy Term (Max term-40 years; Max Age to \\nearn income- 90 years old)\\n6) Tax Benefits: : You may be eligible for tax benefits according to the provisions\\nof Income Tax laws as amended from time to time\\nFeatures of future generali new assured wealth plan are:\\nChoose from 2 product options The plan provides 2 flexible options to ensure that \\nyou have an ideal cover which is best suited to your savings goals. The option has \\nto be chosen at inception and cannot be changed during the term of the policy.\\nGuaranteed Additions and Increasing Death Benefit Enjoy the added benefit of Guaranteed Additions which get accumulated, from eighth policy year till the end of\\nthe policy term, at a simple rate as a percentage of the Sum Assured under both the\\noptions, subject to payment of all due premiums. The Death Benefit increases with \\nthe accrual of the Guaranteed Additions under Option 1.\\nChoose your Policy Term and Premium Payment Term Get the flexibility to select your\\nPolicy Term and Premium Payment Term as per the available options and depending on \\nyour needs and fulfill your savings goals.\\nYou can buy this plan up to the age of 60 years under Option 1\\nTax benefits You may be eligible for tax benefits on the premium(s) you pay and \\nbenefit proceeds, according to the provisions of Income Tax laws. These benefits \\nare subject to change as per the current tax laws. Pease consult your tax advisor \\nfor more details\\nFeatures of future generali long term income plan are:\\nChoose from 2 product options The plan provides 2 flexible options to ensure that \\nyou have an ideal cover which is best suited to your savings goals. The option has \\nto be chosen at inception and cannot be changed during the term of the policy.\\nGuaranteed Additions and Increasing Death Benefit Enjoy the added benefit of \\nGuaranteed Additions which get accumulated, from eighth policy year till the end of\\nthe policy term, at a simple rate as a percentage of the Sum Assured under both the\\noptions, subject to payment of all due premiums. The Death Benefit increases with \\nthe accrual of the Guaranteed Additions under Option 1.\\nChoose your Policy Term and Premium Payment Term Get the flexibility to select your\\nPolicy Term and Premium Payment Term as per the available options and depending on \\nyour needs and fulfill your savings goals.\\nYou can buy this plan up to the age of 60 years under Option 1\\nTax benefits You may be eligible for tax benefits on the premium(s) you pay and \\nbenefit proceeds, according to the provisions of Income Tax laws. These benefits \\nare subject to change as per the current tax laws. Pease consult your tax advisor \\nfor more details\\nFeatures of future generali money back super plan are:\\nEnjoy guaranteed benefits on death, survival and maturity.\\nA Regular pay product with guaranteed money backs at defined intervals that can be \\nused to take care of planned financial milestones or unplanned expenses.\\nTwo Plan Options Choose from two plan options i.e. Option 1 & Option 2, based on \\nyour planned financial milestones. These options vary by Sum Assured and the amount\\nof survival benefit payable.\\nSurvival Benefits\\nEnjoy survival benefits during the policy term based on the category chosen within \\neach option:\\nPlatinum: Every year from the end of 6th year till the end of (Policy term minus 1)\\nyears.\\nGold :Every year from the end of 8th year till the end of (Policy term minus 1) \\nyears.\\nSilver :Every year from the end of 10th year till the end of (Policy term minus 1) \\nyears.\\nGuaranteed AdditionsThe plan offers guaranteed additions at a simple rate as a percentage of the Sum \\nAssured for each completed policy year, starting from the end of 8th Policy year \\ntill the end of the policy term, subject to payment of all due premiums.\\nTax Benefits\\nYou may be eligible for tax benefits on the premium(s) you pay and benefit \\nproceeds, according to the provisions of Income Tax laws as amended from time to \\ntime. These benefits are subject to change as per the current tax laws. Please \\nconsult your tax advisor for more details.\\nFeatures of future generali lifetime partner plan are:\\nIncreasing Guaranteed Income: This plan provides an increasing guaranteed income, \\nin addition to an annual cash bonus, if declared.\\nChoose from 2 Plan Options:\\nOption 1: Immediate Income - With this option, get a guaranteed income along with \\ncash bonus, if declared,\\nOption 2: Deferred Income - With this option, get a guaranteed income along with \\ncash bonus, if declared, from premium payment term plus 3 years as defined below \\nunder the survival benefits section.\\nEnjoy whole - life cover: Get a whole - life cover till 100 years of age\\nFlexibility to receive income: Choose among yearly, half-yearly, quarterly and \\nmonthly frequencies to receive income, as per your need.\\nTax benefits: You may be eligible for tax benefits on the premium(s) you pay and \\nbenefit proceeds, according to the provisions of Income Tax laws.\\nFeatures of future generali assured income plan are:\\nGuaranteed Income – Pay premiums only for 11/15 years and get guaranteed payout for\\nthe next 11/15 years.Additional Income – Receive additional benefit ranging from 1 \\nto 4.5 times your annualised premium along with the last payout.Death Benefit – \\nDepending on life assured’s age and the term you choose for your policy, life \\nassured will be covered for amounts ranging from 15.3 to 27.0 times your annualised\\npremium, which includes the additional benefit.Tax Benefit – You may be eligible \\nfor tax benefits on the premium(s) you pay and benefit proceeds, according to the \\nprovisions of Section 80C and 10(10D) whichever is applicable, subject to \\nfulfillment of conditions as specified in the respective sections. These benefits \\nare subject to change as per the current tax laws. Please consult your tax advisor \\nfor more details\\nFeatures of future generali new assure plus are:\\nFlexibility to choose any combination of Policy Term and Premium Payment Term based\\non your financial goals.\\nOpportunity to enhance your Maturity Payout by way of Bonuses.\\nOption to choose between 2 Death Benefit Payout Options.\\nTax Benefits under section 80C and 10(10D) as per the prevailing tax laws.\\nFeatures of future generali bima advantage plus are:\\nA unique combination of protection and investment that helps fulfil your medium to long term financial goals.\\nHelps maximize your returns by investing in a choice of 7 investment funds to match\\nyour risk appetite.\\nFlexibility to choose policy term, sum assured and other optional features like \\nswitching, re-direction & partial withdrawals.\\nPremium(s) paid are eligible for tax benefit as may be available under the \\nprovisions of Section(s) 80C and 10(10D) as applicable.\\nFeatures of future generali dhan vridhi are:\\nThis is a Limited Premium Payment ULIP with the right blend of Protection & \\nInvestment to meet your medium to long term financial goals.\\nFlexibility to make fund switches to maximize returns\\nPartial withdrawal can be made after 5 policy years from inception.\\nChoice of seven robust unit funds to match your risk appetite.\\nPremium(s) paid are eligible for tax benefit as may be available under the \\nprovisions of Section(s) 80C and 10(10D) as applicable.\\nFeatures of future generali Heart and health insurance plan are:\\nComprehensive Critical Illness Cover\\nThe plan provides comprehensive cover against 59 Critical Illnesses and surgical \\nprocedures including Heart and Cancer related ailments.\\nCover from Early Stages\\nThe plan covers you on diagnosis of any of the listed conditions whether it is in \\nMinor, Moderate or Major Stage.\\nInbuilt Death Benefit\\nThe death benefit will be available from day 1 i.e. without any waiting period.\\nFlexibility to Choose Your Protection Plan\\nThe plan provides 4 flexible options. a) Heart Cover , b) Critical Illness Cover, \\nc) Heart Cover with Return of Premium, d) Critical Illness Cover with Return of \\nPremium.\\nFixed Benefit Payout\\nThe plan ensures a fixed lumpsum payout on diagnosis of critical illness or \\nundergoing surgical procedure covered under the plan.\\nOnline Discount\\nYou can avail of an online discount of 5% on buying it directly from our website \\nhttps://life.futuregenerali.inFuture Generali India Life Insurance Company Ltd. is headquartered in Mumbai and \\nwas established in 2006. The company has a presence in 1300+ owned and partnered \\nlocations in India and offers total insurance solutions across both, the individual\\nand group front. As of today, Generali is the largest shareholder in Future \\nGenerali India Life Insurance with a stake of 73.99% in the Company. Generali \\nbrings in 190+ years of insurance expertise as well as its global network’s best \\npractices, capabilities, and resources, driving sustainable and profitable growth \\nfor communities, clients, employees, and shareholders. Established in 1831, \\nGenerali is present in over 50 countries in the world, with 82 thousand employees \\nserving 68 million customers globally.\\n*MIT Technology Review (2015)\\nOUR JOURNEY\\nProven Credentials, Consistent Performance, Pedigree Investors\\n1357\\nSelf & Partner Branches\\n1.5 Million\\nLives covered since inception\\n₹70.74 Billion\\nWorth of Asset Under Management\\n95.04%\\nIndividual claims settlement ratio for FY 2022-2023\\nData as on 31st March 2023\\nOUR PARTNERS\\nFuture Group\\nFuture Group operates some of India’s most popular retail chains like Central, Big \\nBazaar, Food Bazaar, Home Town and eZone.\\nKnow More\\nGenerrali\\nGenerali is an independent, Italian Group, with a strong international presence. \\nEstablished in 1831, it is among the world’s leading insurers and it is present in \\nover 60 countries with total premium income exceeding €70 billion in 2016.\\nKnow More\\nOUR TEAM\\nBoard of Directors\\nVision, Mission and Values\\nT & C of Appointment of Independent Directors\\nKey Management Person\\nWhy Choose Us\\nT & C of Appointment of Independent Directors\\nREPORTS AND DISCLOSURES\\nThis section lists Future Generali Life’s performance information including annual \\nreports, bonus declaration and public disclosures.\""
      ]
     },
     "execution_count": 2,
     "metadata": {},
     "output_type": "execute_result"
    }
   ],
   "source": [
    "import numpy as np\n",
    "import pandas as pd\n",
    "import re\n",
    "import nltk\n",
    "# import spacy\n",
    "import string\n",
    "pd.options.mode.chained_assignment = None\n",
    "import PyPDF2\n",
    "from PyPDF2 import PdfReader\n",
    "# full_df = pd.read_csv(\"../input/customer-support-on-twitter/twcs/twcs.csv\", nrows=5000)\n",
    "# df = full_df[[\"text\"]]\n",
    "# df[\"text\"] = df[\"text\"].astype(str)\n",
    "# full_df.head()\n",
    "\n",
    "pdf = r'C:\\Users\\chira\\OneDrive\\Desktop\\frshr\\LLM_roadmap\\future\\generali.pdf'\n",
    "pdfFileObject = open(pdf, 'rb')\n",
    "pdfReader = PyPDF2.PdfReader (pdfFileObject)\n",
    "# pdfReader\n",
    "count = len(pdfReader.pages)\n",
    "output = ''\n",
    "for i in range(count):\n",
    "    page = pdfReader.pages[i]\n",
    "    output += page.extract_text()\n",
    "\n",
    "output"
   ]
  },
  {
   "cell_type": "code",
   "execution_count": 3,
   "metadata": {},
   "outputs": [
    {
     "data": {
      "text/html": [
       "<div>\n",
       "<style scoped>\n",
       "    .dataframe tbody tr th:only-of-type {\n",
       "        vertical-align: middle;\n",
       "    }\n",
       "\n",
       "    .dataframe tbody tr th {\n",
       "        vertical-align: top;\n",
       "    }\n",
       "\n",
       "    .dataframe thead th {\n",
       "        text-align: right;\n",
       "    }\n",
       "</style>\n",
       "<table border=\"1\" class=\"dataframe\">\n",
       "  <thead>\n",
       "    <tr style=\"text-align: right;\">\n",
       "      <th></th>\n",
       "      <th>text</th>\n",
       "    </tr>\n",
       "  </thead>\n",
       "  <tbody>\n",
       "    <tr>\n",
       "      <th>0</th>\n",
       "      <td>Below are our details of products\\nFeatured pr...</td>\n",
       "    </tr>\n",
       "  </tbody>\n",
       "</table>\n",
       "</div>"
      ],
      "text/plain": [
       "                                                text\n",
       "0  Below are our details of products\\nFeatured pr..."
      ]
     },
     "execution_count": 3,
     "metadata": {},
     "output_type": "execute_result"
    }
   ],
   "source": [
    "import pandas as pd\n",
    "df = pd.DataFrame([output], columns=['text'])\n",
    "df"
   ]
  },
  {
   "cell_type": "markdown",
   "metadata": {
    "_cell_guid": "79c7e3d0-c299-4dcb-8224-4455121ee9b0",
    "_uuid": "d629ff2d2480ee46fbb7e2d37f6b5fab8052498a",
    "collapsed": true
   },
   "source": [
    "## Lower Casing\n",
    "\n",
    "Lower casing is a common text preprocessing technique. The idea is to convert the input text into same casing format so that 'text', 'Text' and 'TEXT' are treated the same way. \n",
    "\n",
    "This is more helpful for text featurization techniques like frequency, tfidf as it helps to combine the same words together thereby reducing the duplication and get correct counts / tfidf values.\n",
    "\n",
    "This may not be helpful when we do tasks like Part of Speech tagging (where proper casing gives some information about Nouns and so on) and Sentiment Analysis (where upper casing refers to anger and so on)\n",
    "\n",
    "By default, lower casing is done my most of the modern day vecotirzers and tokenizers like [sklearn TfidfVectorizer](https://scikit-learn.org/stable/modules/generated/sklearn.feature_extraction.text.TfidfVectorizer.html) and [Keras Tokenizer](https://keras.io/preprocessing/text/). So we need to set them to false as needed depending on our use case. "
   ]
  },
  {
   "cell_type": "code",
   "execution_count": 4,
   "metadata": {},
   "outputs": [
    {
     "data": {
      "text/html": [
       "<div>\n",
       "<style scoped>\n",
       "    .dataframe tbody tr th:only-of-type {\n",
       "        vertical-align: middle;\n",
       "    }\n",
       "\n",
       "    .dataframe tbody tr th {\n",
       "        vertical-align: top;\n",
       "    }\n",
       "\n",
       "    .dataframe thead th {\n",
       "        text-align: right;\n",
       "    }\n",
       "</style>\n",
       "<table border=\"1\" class=\"dataframe\">\n",
       "  <thead>\n",
       "    <tr style=\"text-align: right;\">\n",
       "      <th></th>\n",
       "      <th>text</th>\n",
       "      <th>text_lower</th>\n",
       "    </tr>\n",
       "  </thead>\n",
       "  <tbody>\n",
       "    <tr>\n",
       "      <th>0</th>\n",
       "      <td>Below are our details of products\\nFeatured pr...</td>\n",
       "      <td>below are our details of products\\nfeatured pr...</td>\n",
       "    </tr>\n",
       "  </tbody>\n",
       "</table>\n",
       "</div>"
      ],
      "text/plain": [
       "                                                text  \\\n",
       "0  Below are our details of products\\nFeatured pr...   \n",
       "\n",
       "                                          text_lower  \n",
       "0  below are our details of products\\nfeatured pr...  "
      ]
     },
     "execution_count": 4,
     "metadata": {},
     "output_type": "execute_result"
    }
   ],
   "source": [
    "df[\"text_lower\"] = df[\"text\"].str.lower()\n",
    "df.head()"
   ]
  },
  {
   "cell_type": "markdown",
   "metadata": {},
   "source": [
    "## Removal of Punctuations\n",
    "\n",
    "One another common text preprocessing technique is to remove the punctuations from the text data. This is again a text standardization process that will help to treat 'hurray' and 'hurray!' in the same way.\n",
    "\n",
    "We also need to carefully choose the list of punctuations to exclude depending on the use case. For example, the `string.punctuation` in python contains the following punctuation symbols \n",
    "\n",
    "`!\"#$%&\\'()*+,-./:;<=>?@[\\\\]^_`{|}~`\n",
    "\n",
    "We can add or remove more punctuations as per our need."
   ]
  },
  {
   "cell_type": "code",
   "execution_count": 5,
   "metadata": {},
   "outputs": [
    {
     "data": {
      "text/html": [
       "<div>\n",
       "<style scoped>\n",
       "    .dataframe tbody tr th:only-of-type {\n",
       "        vertical-align: middle;\n",
       "    }\n",
       "\n",
       "    .dataframe tbody tr th {\n",
       "        vertical-align: top;\n",
       "    }\n",
       "\n",
       "    .dataframe thead th {\n",
       "        text-align: right;\n",
       "    }\n",
       "</style>\n",
       "<table border=\"1\" class=\"dataframe\">\n",
       "  <thead>\n",
       "    <tr style=\"text-align: right;\">\n",
       "      <th></th>\n",
       "      <th>text</th>\n",
       "      <th>text_wo_punct</th>\n",
       "    </tr>\n",
       "  </thead>\n",
       "  <tbody>\n",
       "    <tr>\n",
       "      <th>0</th>\n",
       "      <td>Below are our details of products\\nFeatured pr...</td>\n",
       "      <td>Below are our details of products\\nFeatured pr...</td>\n",
       "    </tr>\n",
       "  </tbody>\n",
       "</table>\n",
       "</div>"
      ],
      "text/plain": [
       "                                                text  \\\n",
       "0  Below are our details of products\\nFeatured pr...   \n",
       "\n",
       "                                       text_wo_punct  \n",
       "0  Below are our details of products\\nFeatured pr...  "
      ]
     },
     "execution_count": 5,
     "metadata": {},
     "output_type": "execute_result"
    }
   ],
   "source": [
    "# drop the new column created in last cell\n",
    "df.drop([\"text_lower\"], axis=1, inplace=True)\n",
    "\n",
    "PUNCT_TO_REMOVE = string.punctuation\n",
    "def remove_punctuation(text):\n",
    "    \"\"\"custom function to remove the punctuation\"\"\"\n",
    "    return text.translate(str.maketrans('', '', PUNCT_TO_REMOVE))\n",
    "\n",
    "df[\"text_wo_punct\"] = df[\"text\"].apply(lambda text: remove_punctuation(text))\n",
    "df.head()"
   ]
  },
  {
   "cell_type": "markdown",
   "metadata": {},
   "source": [
    "## Removal of stopwords\n",
    "\n",
    "Stopwords are commonly occuring words in a language like 'the', 'a' and so on. They can be removed from the text most of the times, as they don't provide valuable information for downstream analysis. In cases like Part of Speech tagging, we should not remove them as provide very valuable information about the POS.\n",
    "\n",
    "These stopword lists are already compiled for different languages and we can safely use them. For example, the stopword list for english language from the nltk package can be seen below.\n"
   ]
  },
  {
   "cell_type": "code",
   "execution_count": 6,
   "metadata": {},
   "outputs": [
    {
     "data": {
      "text/plain": [
       "\"i, me, my, myself, we, our, ours, ourselves, you, you're, you've, you'll, you'd, your, yours, yourself, yourselves, he, him, his, himself, she, she's, her, hers, herself, it, it's, its, itself, they, them, their, theirs, themselves, what, which, who, whom, this, that, that'll, these, those, am, is, are, was, were, be, been, being, have, has, had, having, do, does, did, doing, a, an, the, and, but, if, or, because, as, until, while, of, at, by, for, with, about, against, between, into, through, during, before, after, above, below, to, from, up, down, in, out, on, off, over, under, again, further, then, once, here, there, when, where, why, how, all, any, both, each, few, more, most, other, some, such, no, nor, not, only, own, same, so, than, too, very, s, t, can, will, just, don, don't, should, should've, now, d, ll, m, o, re, ve, y, ain, aren, aren't, couldn, couldn't, didn, didn't, doesn, doesn't, hadn, hadn't, hasn, hasn't, haven, haven't, isn, isn't, ma, mightn, mightn't, mustn, mustn't, needn, needn't, shan, shan't, shouldn, shouldn't, wasn, wasn't, weren, weren't, won, won't, wouldn, wouldn't\""
      ]
     },
     "execution_count": 6,
     "metadata": {},
     "output_type": "execute_result"
    }
   ],
   "source": [
    "from nltk.corpus import stopwords\n",
    "\", \".join(stopwords.words('english'))"
   ]
  },
  {
   "cell_type": "markdown",
   "metadata": {},
   "source": [
    "Similarly we can also get the list for other languages as well and use them. "
   ]
  },
  {
   "cell_type": "code",
   "execution_count": 7,
   "metadata": {},
   "outputs": [
    {
     "data": {
      "text/html": [
       "<div>\n",
       "<style scoped>\n",
       "    .dataframe tbody tr th:only-of-type {\n",
       "        vertical-align: middle;\n",
       "    }\n",
       "\n",
       "    .dataframe tbody tr th {\n",
       "        vertical-align: top;\n",
       "    }\n",
       "\n",
       "    .dataframe thead th {\n",
       "        text-align: right;\n",
       "    }\n",
       "</style>\n",
       "<table border=\"1\" class=\"dataframe\">\n",
       "  <thead>\n",
       "    <tr style=\"text-align: right;\">\n",
       "      <th></th>\n",
       "      <th>text</th>\n",
       "      <th>text_wo_punct</th>\n",
       "      <th>text_wo_stop</th>\n",
       "    </tr>\n",
       "  </thead>\n",
       "  <tbody>\n",
       "    <tr>\n",
       "      <th>0</th>\n",
       "      <td>Below are our details of products\\nFeatured pr...</td>\n",
       "      <td>Below are our details of products\\nFeatured pr...</td>\n",
       "      <td>Below details products Featured products Futur...</td>\n",
       "    </tr>\n",
       "  </tbody>\n",
       "</table>\n",
       "</div>"
      ],
      "text/plain": [
       "                                                text  \\\n",
       "0  Below are our details of products\\nFeatured pr...   \n",
       "\n",
       "                                       text_wo_punct  \\\n",
       "0  Below are our details of products\\nFeatured pr...   \n",
       "\n",
       "                                        text_wo_stop  \n",
       "0  Below details products Featured products Futur...  "
      ]
     },
     "execution_count": 7,
     "metadata": {},
     "output_type": "execute_result"
    }
   ],
   "source": [
    "STOPWORDS = set(stopwords.words('english'))\n",
    "def remove_stopwords(text):\n",
    "    \"\"\"custom function to remove the stopwords\"\"\"\n",
    "    return \" \".join([word for word in str(text).split() if word not in STOPWORDS])\n",
    "\n",
    "df[\"text_wo_stop\"] = df[\"text_wo_punct\"].apply(lambda text: remove_stopwords(text))\n",
    "df.head()"
   ]
  },
  {
   "cell_type": "markdown",
   "metadata": {},
   "source": [
    "## Removal of Frequent words\n",
    "\n",
    "In the previos preprocessing step, we removed the stopwords based on language information. But say, if we have a domain specific corpus, we might also have some frequent words which are of not so much importance to us. \n",
    "\n",
    "So this step is to remove the frequent words in the given corpus. If we use something like tfidf, this is automatically taken care of.  \n",
    "\n",
    "Let us get the most common words adn then remove them in the next step"
   ]
  },
  {
   "cell_type": "code",
   "execution_count": 8,
   "metadata": {},
   "outputs": [
    {
     "data": {
      "text/plain": [
       "[('plan', 46),\n",
       " ('future', 27),\n",
       " ('generali', 27),\n",
       " ('term', 24),\n",
       " ('income', 24),\n",
       " ('Generali', 22),\n",
       " ('Future', 20),\n",
       " ('life', 20),\n",
       " ('policy', 19),\n",
       " ('tax', 19)]"
      ]
     },
     "execution_count": 8,
     "metadata": {},
     "output_type": "execute_result"
    }
   ],
   "source": [
    "from collections import Counter\n",
    "cnt = Counter()\n",
    "for text in df[\"text_wo_stop\"].values:\n",
    "    for word in text.split():\n",
    "        cnt[word] += 1\n",
    "        \n",
    "cnt.most_common(10)"
   ]
  },
  {
   "cell_type": "code",
   "execution_count": 9,
   "metadata": {},
   "outputs": [
    {
     "data": {
      "text/html": [
       "<div>\n",
       "<style scoped>\n",
       "    .dataframe tbody tr th:only-of-type {\n",
       "        vertical-align: middle;\n",
       "    }\n",
       "\n",
       "    .dataframe tbody tr th {\n",
       "        vertical-align: top;\n",
       "    }\n",
       "\n",
       "    .dataframe thead th {\n",
       "        text-align: right;\n",
       "    }\n",
       "</style>\n",
       "<table border=\"1\" class=\"dataframe\">\n",
       "  <thead>\n",
       "    <tr style=\"text-align: right;\">\n",
       "      <th></th>\n",
       "      <th>text</th>\n",
       "      <th>text_wo_punct</th>\n",
       "      <th>text_wo_stop</th>\n",
       "      <th>text_wo_stopfreq</th>\n",
       "    </tr>\n",
       "  </thead>\n",
       "  <tbody>\n",
       "    <tr>\n",
       "      <th>0</th>\n",
       "      <td>Below are our details of products\\nFeatured pr...</td>\n",
       "      <td>Below are our details of products\\nFeatured pr...</td>\n",
       "      <td>Below details products Featured products Futur...</td>\n",
       "      <td>Below details products Featured products singl...</td>\n",
       "    </tr>\n",
       "  </tbody>\n",
       "</table>\n",
       "</div>"
      ],
      "text/plain": [
       "                                                text  \\\n",
       "0  Below are our details of products\\nFeatured pr...   \n",
       "\n",
       "                                       text_wo_punct  \\\n",
       "0  Below are our details of products\\nFeatured pr...   \n",
       "\n",
       "                                        text_wo_stop  \\\n",
       "0  Below details products Featured products Futur...   \n",
       "\n",
       "                                    text_wo_stopfreq  \n",
       "0  Below details products Featured products singl...  "
      ]
     },
     "execution_count": 9,
     "metadata": {},
     "output_type": "execute_result"
    }
   ],
   "source": [
    "FREQWORDS = set([w for (w, wc) in cnt.most_common(10)])\n",
    "def remove_freqwords(text):\n",
    "    \"\"\"custom function to remove the frequent words\"\"\"\n",
    "    return \" \".join([word for word in str(text).split() if word not in FREQWORDS])\n",
    "\n",
    "df[\"text_wo_stopfreq\"] = df[\"text_wo_stop\"].apply(lambda text: remove_freqwords(text))\n",
    "df.head()"
   ]
  },
  {
   "cell_type": "markdown",
   "metadata": {},
   "source": [
    "## Removal of Rare words\n",
    "\n",
    "This is very similar to previous preprocessing step but we will remove the rare words from the corpus. "
   ]
  },
  {
   "cell_type": "code",
   "execution_count": 10,
   "metadata": {},
   "outputs": [
    {
     "data": {
      "text/html": [
       "<div>\n",
       "<style scoped>\n",
       "    .dataframe tbody tr th:only-of-type {\n",
       "        vertical-align: middle;\n",
       "    }\n",
       "\n",
       "    .dataframe tbody tr th {\n",
       "        vertical-align: top;\n",
       "    }\n",
       "\n",
       "    .dataframe thead th {\n",
       "        text-align: right;\n",
       "    }\n",
       "</style>\n",
       "<table border=\"1\" class=\"dataframe\">\n",
       "  <thead>\n",
       "    <tr style=\"text-align: right;\">\n",
       "      <th></th>\n",
       "      <th>text</th>\n",
       "      <th>text_wo_stopfreq</th>\n",
       "      <th>text_wo_stopfreqrare</th>\n",
       "    </tr>\n",
       "  </thead>\n",
       "  <tbody>\n",
       "    <tr>\n",
       "      <th>0</th>\n",
       "      <td>Below are our details of products\\nFeatured pr...</td>\n",
       "      <td>Below details products Featured products singl...</td>\n",
       "      <td>Below details products Featured products singl...</td>\n",
       "    </tr>\n",
       "  </tbody>\n",
       "</table>\n",
       "</div>"
      ],
      "text/plain": [
       "                                                text  \\\n",
       "0  Below are our details of products\\nFeatured pr...   \n",
       "\n",
       "                                    text_wo_stopfreq  \\\n",
       "0  Below details products Featured products singl...   \n",
       "\n",
       "                                text_wo_stopfreqrare  \n",
       "0  Below details products Featured products singl...  "
      ]
     },
     "execution_count": 10,
     "metadata": {},
     "output_type": "execute_result"
    }
   ],
   "source": [
    "# Drop the two columns which are no more needed \n",
    "df.drop([\"text_wo_punct\", \"text_wo_stop\"], axis=1, inplace=True)\n",
    "\n",
    "n_rare_words = 10\n",
    "RAREWORDS = set([w for (w, wc) in cnt.most_common()[:-n_rare_words-1:-1]])\n",
    "def remove_rarewords(text):\n",
    "    \"\"\"custom function to remove the rare words\"\"\"\n",
    "    return \" \".join([word for word in str(text).split() if word not in RAREWORDS])\n",
    "\n",
    "df[\"text_wo_stopfreqrare\"] = df[\"text_wo_stopfreq\"].apply(lambda text: remove_rarewords(text))\n",
    "df.head()"
   ]
  },
  {
   "cell_type": "markdown",
   "metadata": {},
   "source": [
    "We can combine all the list of words (stopwords, frequent words and rare words) and create a single list to remove them at once.\n",
    "\n",
    "## Stemming\n",
    "\n",
    "Stemming is the process of reducing inflected (or sometimes derived) words to their word stem, base or root form (From [Wikipedia](https://en.wikipedia.org/wiki/Stemming))\n",
    "\n",
    "For example, if there are two words in the corpus `walks` and `walking`, then stemming will stem the suffix to make them `walk`. But say in another example, we have two words `console` and `consoling`, the stemmer will remove the suffix and make them `consol` which is not a proper english word.\n",
    "\n",
    "There are several type of stemming algorithms available and one of the famous one is porter stemmer which is widely used. We can use nltk package for the same."
   ]
  },
  {
   "cell_type": "code",
   "execution_count": 11,
   "metadata": {},
   "outputs": [
    {
     "data": {
      "text/html": [
       "<div>\n",
       "<style scoped>\n",
       "    .dataframe tbody tr th:only-of-type {\n",
       "        vertical-align: middle;\n",
       "    }\n",
       "\n",
       "    .dataframe tbody tr th {\n",
       "        vertical-align: top;\n",
       "    }\n",
       "\n",
       "    .dataframe thead th {\n",
       "        text-align: right;\n",
       "    }\n",
       "</style>\n",
       "<table border=\"1\" class=\"dataframe\">\n",
       "  <thead>\n",
       "    <tr style=\"text-align: right;\">\n",
       "      <th></th>\n",
       "      <th>text</th>\n",
       "      <th>text_stemmed</th>\n",
       "    </tr>\n",
       "  </thead>\n",
       "  <tbody>\n",
       "    <tr>\n",
       "      <th>0</th>\n",
       "      <td>Below are our details of products\\nFeatured pr...</td>\n",
       "      <td>below are our detail of product featur product...</td>\n",
       "    </tr>\n",
       "  </tbody>\n",
       "</table>\n",
       "</div>"
      ],
      "text/plain": [
       "                                                text  \\\n",
       "0  Below are our details of products\\nFeatured pr...   \n",
       "\n",
       "                                        text_stemmed  \n",
       "0  below are our detail of product featur product...  "
      ]
     },
     "execution_count": 11,
     "metadata": {},
     "output_type": "execute_result"
    }
   ],
   "source": [
    "from nltk.stem.porter import PorterStemmer\n",
    "\n",
    "# Drop the two columns \n",
    "df.drop([\"text_wo_stopfreq\", \"text_wo_stopfreqrare\"], axis=1, inplace=True) \n",
    "\n",
    "stemmer = PorterStemmer()\n",
    "def stem_words(text):\n",
    "    return \" \".join([stemmer.stem(word) for word in text.split()])\n",
    "\n",
    "df[\"text_stemmed\"] = df[\"text\"].apply(lambda text: stem_words(text))\n",
    "df.head()"
   ]
  },
  {
   "cell_type": "markdown",
   "metadata": {},
   "source": [
    "We can see that words like `private` and `propose` have their `e` at the end chopped off due to stemming. This is not intented. What can we do fort hat? We can use Lemmatization in such cases.\n",
    "\n",
    "Also this porter stemmer is for English language. If we are working with other languages, we can use snowball stemmer. The supported languages for snowball stemmer are"
   ]
  },
  {
   "cell_type": "code",
   "execution_count": 12,
   "metadata": {},
   "outputs": [
    {
     "data": {
      "text/plain": [
       "('arabic',\n",
       " 'danish',\n",
       " 'dutch',\n",
       " 'english',\n",
       " 'finnish',\n",
       " 'french',\n",
       " 'german',\n",
       " 'hungarian',\n",
       " 'italian',\n",
       " 'norwegian',\n",
       " 'porter',\n",
       " 'portuguese',\n",
       " 'romanian',\n",
       " 'russian',\n",
       " 'spanish',\n",
       " 'swedish')"
      ]
     },
     "execution_count": 12,
     "metadata": {},
     "output_type": "execute_result"
    }
   ],
   "source": [
    "from nltk.stem.snowball import SnowballStemmer\n",
    "SnowballStemmer.languages"
   ]
  },
  {
   "cell_type": "markdown",
   "metadata": {},
   "source": [
    "## Lemmatization\n",
    "\n",
    "Lemmatization is similar to stemming in reducing inflected words to their word stem but differs in the way that it makes sure the root word (also called as lemma) belongs to the language. \n",
    "\n",
    "As a result, this one is generally slower than stemming process. So depending on the speed requirement, we can choose to use either stemming or lemmatization. \n",
    "\n",
    "Let us use the `WordNetLemmatizer` in nltk to lemmatize our sentences"
   ]
  },
  {
   "cell_type": "code",
   "execution_count": 13,
   "metadata": {},
   "outputs": [
    {
     "data": {
      "text/html": [
       "<div>\n",
       "<style scoped>\n",
       "    .dataframe tbody tr th:only-of-type {\n",
       "        vertical-align: middle;\n",
       "    }\n",
       "\n",
       "    .dataframe tbody tr th {\n",
       "        vertical-align: top;\n",
       "    }\n",
       "\n",
       "    .dataframe thead th {\n",
       "        text-align: right;\n",
       "    }\n",
       "</style>\n",
       "<table border=\"1\" class=\"dataframe\">\n",
       "  <thead>\n",
       "    <tr style=\"text-align: right;\">\n",
       "      <th></th>\n",
       "      <th>text</th>\n",
       "      <th>text_stemmed</th>\n",
       "      <th>text_lemmatized</th>\n",
       "    </tr>\n",
       "  </thead>\n",
       "  <tbody>\n",
       "    <tr>\n",
       "      <th>0</th>\n",
       "      <td>Below are our details of products\\nFeatured pr...</td>\n",
       "      <td>below are our detail of product featur product...</td>\n",
       "      <td>Below are our detail of product Featured produ...</td>\n",
       "    </tr>\n",
       "  </tbody>\n",
       "</table>\n",
       "</div>"
      ],
      "text/plain": [
       "                                                text  \\\n",
       "0  Below are our details of products\\nFeatured pr...   \n",
       "\n",
       "                                        text_stemmed  \\\n",
       "0  below are our detail of product featur product...   \n",
       "\n",
       "                                     text_lemmatized  \n",
       "0  Below are our detail of product Featured produ...  "
      ]
     },
     "execution_count": 13,
     "metadata": {},
     "output_type": "execute_result"
    }
   ],
   "source": [
    "from nltk.stem import WordNetLemmatizer\n",
    "\n",
    "lemmatizer = WordNetLemmatizer()\n",
    "def lemmatize_words(text):\n",
    "    return \" \".join([lemmatizer.lemmatize(word) for word in text.split()])\n",
    "\n",
    "df[\"text_lemmatized\"] = df[\"text\"].apply(lambda text: lemmatize_words(text))\n",
    "df.head()"
   ]
  },
  {
   "cell_type": "markdown",
   "metadata": {},
   "source": [
    "We can see that the trailing `e` in the `propose` and `private` is retained when we use lemmatization unlike stemming. \n",
    "\n",
    "Wait. There is one more thing in lemmatization. Let us try to lemmatize `running` now."
   ]
  },
  {
   "cell_type": "code",
   "execution_count": 14,
   "metadata": {},
   "outputs": [
    {
     "data": {
      "text/plain": [
       "'founded'"
      ]
     },
     "execution_count": 14,
     "metadata": {},
     "output_type": "execute_result"
    }
   ],
   "source": [
    "lemmatizer.lemmatize(\"founded\")"
   ]
  },
  {
   "cell_type": "markdown",
   "metadata": {},
   "source": [
    "Wow. It returned `running` as such without converting it to the root form `run`. This is because the lemmatization process depends on the POS tag to come up with the correct lemma. Now let us lemmatize again by providing the POS tag for the word."
   ]
  },
  {
   "cell_type": "code",
   "execution_count": 15,
   "metadata": {},
   "outputs": [
    {
     "data": {
      "text/plain": [
       "'found'"
      ]
     },
     "execution_count": 15,
     "metadata": {},
     "output_type": "execute_result"
    }
   ],
   "source": [
    "lemmatizer.lemmatize(\"founded\", \"v\") # v for verb"
   ]
  },
  {
   "cell_type": "markdown",
   "metadata": {},
   "source": [
    "Now we are getting the root form `run`. So we also need to provide the POS tag of the word along with the word for lemmatizer in nltk. Depending on the POS, the lemmatizer may return different results.\n",
    "\n",
    "Let us take the example, `stripes` and check the lemma when it is both verb and noun."
   ]
  },
  {
   "cell_type": "code",
   "execution_count": 16,
   "metadata": {},
   "outputs": [
    {
     "name": "stdout",
     "output_type": "stream",
     "text": [
      "Word is : stripes\n",
      "Lemma result for verb :  found\n",
      "Lemma result for noun :  founded\n"
     ]
    }
   ],
   "source": [
    "print(\"Word is : stripes\")\n",
    "print(\"Lemma result for verb : \",lemmatizer.lemmatize(\"founded\", 'v'))\n",
    "print(\"Lemma result for noun : \",lemmatizer.lemmatize(\"founded\", 'n'))"
   ]
  },
  {
   "cell_type": "markdown",
   "metadata": {},
   "source": [
    "Now let us redo the lemmatization process for our dataset."
   ]
  },
  {
   "cell_type": "code",
   "execution_count": 17,
   "metadata": {},
   "outputs": [
    {
     "data": {
      "text/html": [
       "<div>\n",
       "<style scoped>\n",
       "    .dataframe tbody tr th:only-of-type {\n",
       "        vertical-align: middle;\n",
       "    }\n",
       "\n",
       "    .dataframe tbody tr th {\n",
       "        vertical-align: top;\n",
       "    }\n",
       "\n",
       "    .dataframe thead th {\n",
       "        text-align: right;\n",
       "    }\n",
       "</style>\n",
       "<table border=\"1\" class=\"dataframe\">\n",
       "  <thead>\n",
       "    <tr style=\"text-align: right;\">\n",
       "      <th></th>\n",
       "      <th>text</th>\n",
       "      <th>text_stemmed</th>\n",
       "      <th>text_lemmatized</th>\n",
       "    </tr>\n",
       "  </thead>\n",
       "  <tbody>\n",
       "    <tr>\n",
       "      <th>0</th>\n",
       "      <td>Below are our details of products\\nFeatured pr...</td>\n",
       "      <td>below are our detail of product featur product...</td>\n",
       "      <td>Below be our detail of product Featured produc...</td>\n",
       "    </tr>\n",
       "  </tbody>\n",
       "</table>\n",
       "</div>"
      ],
      "text/plain": [
       "                                                text  \\\n",
       "0  Below are our details of products\\nFeatured pr...   \n",
       "\n",
       "                                        text_stemmed  \\\n",
       "0  below are our detail of product featur product...   \n",
       "\n",
       "                                     text_lemmatized  \n",
       "0  Below be our detail of product Featured produc...  "
      ]
     },
     "execution_count": 17,
     "metadata": {},
     "output_type": "execute_result"
    }
   ],
   "source": [
    "from nltk.corpus import wordnet\n",
    "from nltk.stem import WordNetLemmatizer\n",
    "\n",
    "lemmatizer = WordNetLemmatizer()\n",
    "wordnet_map = {\"N\":wordnet.NOUN, \"V\":wordnet.VERB, \"J\":wordnet.ADJ, \"R\":wordnet.ADV}\n",
    "def lemmatize_words(text):\n",
    "    pos_tagged_text = nltk.pos_tag(text.split())\n",
    "    return \" \".join([lemmatizer.lemmatize(word, wordnet_map.get(pos[0], wordnet.NOUN)) for word, pos in pos_tagged_text])\n",
    "\n",
    "df[\"text_lemmatized\"] = df[\"text\"].apply(lambda text: lemmatize_words(text))\n",
    "df.head()"
   ]
  },
  {
   "cell_type": "markdown",
   "metadata": {},
   "source": [
    "We can now see that in the third row, `sent` got converted to `send` since we provided the POS tag for lemmatization.\n",
    "\n",
    "## Removal of Emojis\n",
    "\n",
    "With more and more usage of social media platforms, there is an explosion in the usage of emojis in our day to day life as well. Probably we might need to remove these emojis for some of our textual analysis.\n",
    "\n",
    "Thanks to [this code,](https://gist.github.com/slowkow/7a7f61f495e3dbb7e3d767f97bd7304b) please find below a helper function to remove emojis from our text. "
   ]
  },
  {
   "cell_type": "code",
   "execution_count": 18,
   "metadata": {},
   "outputs": [],
   "source": [
    "output_lemmatized = df['text_lemmatized'][0]"
   ]
  },
  {
   "cell_type": "code",
   "execution_count": 19,
   "metadata": {},
   "outputs": [
    {
     "data": {
      "text/plain": [
       "\"Below be our detail of product Featured products: Future Generali single premium anchor plan future generali new assure wealth plan future generali long term income plan future generali money back super plan future generali lifetime partner plan future generali assure income plan future generali new assure plus future generali bima advantage plus future generali dhan vridhi future generali Heart and health insurance plan Services offered: Term Insurance plan Endowment Plan ULIPs (Unit Linked Insurance Plans) Health insurance plan child plan retirement plan saving plan Office location *Redirect to branch locator* https://life.futuregenerali.in/branch-locator/ The pricing or premium for product can be calculate use the calculator under the calculate premium tab in the website How be our product well than competition 95.04% Individual claim settlement ratio for FY 2022-23 1.5 Million life cover Future Generali India Life Insurance Company Limited offer an extensive range of life insurance products, and a distribution network that ensure we be close to you wherever you go. At the heart of our ambition be the promise to be a lifetime partner to our customers. And with the help of technology, we be make the shift from not only offer protection to our customer but also provide personalize service to them. It start with our extensive agent base which be at the core of this transformation. Through our distribution network, we ensure that there be always a caring touch while service the individual need of our customers. With this philosophy, we aim to make simplicity, innovation, empathy and care synonymous with our brand - Future Generali India Life Insurance Company Limited.Established in 1831, it be present in over 50 country in the world, with a total premium income of €82.5 billion in 2023. With 82,000 employee serve 70 million customers, the Group have a leading position in Europe and a grow presence in Asia and Latin America. Below be the detail for the feature of product Future Generali single premium anchor plan: An Individual, Non-Linked, Non-Participating (without profits), Savings, Life Insurance Plan. By just make a single premium payment in the Future Generali Single Premium Anchor Plan, you can get a lumpsum payment or a steady income a per the plan option chosen. Know more at: https://life.futuregenerali.in/insurance-plans/savings-plans/single-premium-anchor- plan Future generali new assured wealth plan: the Future Generali New Assured Wealth Plan be a Life Insurance Plan that give you financial security in form of lumpsum death benefit and a guaranteed lump sum amount at the end of your policy term. It also give you Guaranteed Additions every year from 8th year, calculate at a simple percent rate of the Sum Assured. So that you don’t have to worry about the rise cost of living. Know more at: https://life.futuregenerali.in/insurance-plans/guaranteed-plans/new-assured-wealth- plan-non-pos-variant future generali long term income plan: A Life Insurance Savings Plan that provide you long-term financial support through guarantee long-term income, that too increase with time along with much-needed life protection for you and your family, so that you enjoy all your life milestone without any worry. Know more at: https://life.futuregenerali.in/insurance-plans/guaranteed-plans/future-generali-lon g-term-income-plan future generali money back super plan: the Future Generali Money Back Super Plan be a savings life insurance plan which offer guaranteed money back at defined interval along with the benefit of a life insurance cover. With the promise of stable return and adequate protection coverage, you can now prepare for a comfortable life. Know more at: https://life.futuregenerali.in/insurance-plans/guaranteed-plans/money-back-super-pl an-non-pos-variant future generali lifetime partner plan: Presenting the Future Generali Lifetime Partner Plan, a Life Insurance Plan that provide a much need protection to your family, along with a regular income for whole of your life, up to age 100. It also provide you potential upside on the income, through cash bonus (if declared). There be two option to choose from: Option 1) Immediate Income - With this option, get a guaranteed income along with cash bonus, if declared, from the first year as define below under the survival benefit section. Option 2) Deferred Income - With this option, get a guaranteed income along with cash bonus, if declared, from premium payment term plus 3 year a define below under the survival benefit section. Know more at: https://life.futuregenerali.in/insurance-plans/traditional-plans/future-generali-li fetime-partner-plan future generali assure income plan: Our Future Generali Assured Income Plan be a life insurance plan that provide life cover and ensure that you get guarantee return on your premiums.This plan come with 2 term options, at the end of which you enjoy regular assure annual income plus an additional benefit range from 1 to 4.5 time your annualized premium depend on life assured's age. What’s more, the life assure get a death cover and be sure that his/her saving be safe and multiplying. Know more at: https://life.futuregenerali.in/insurance-plans/guaranteed-plans/assured-income-plan future generali new assure plus: It be a life insurance plan which emopowers you to fortify your family's financial future with one or two payouts, depend on the choice of plan you make. With this plan in your portfolio, you can be rest assure that the hard work you've put in to keep your family safe and sound will never get undone. It have the following features: 1) Flexibility to choose any combination of Policy Term and Premium Payment Term base on your financial goals. 2) Opportunity to enhance your Maturity Payout by way of Bonuses. 3) Option to choose between 2 Death Benefit Payout Options. 4) Tax Benefits under section 80C and 10(10D) a per the prevailing tax law future generali bima advantage plus: Future Generali Bima Advantage Plus be an individual, unit-linked, non participate life insurance plan that not only help you build wealth, but also offer you the added advantage of protection. It also offer a wide choice of investment fund to match your risk appetite and a host of other flexible option for your unique needs. So, don't settle for just any ULIP. Demand more with Future Generali Bima Advantage Plus. Maturity Benefits) On maturity of the policy, the fund value a on the date of maturity be payable to the life assured. Death Benefits) In case of an unfortunate demise of the life assure during the policy term while the policy be in force, the nominee receive the high of Sum Assured less Deductible Partial Withdrawal, if any or Fund Value or 105% of basic premium pay till date of death less deductible partial withdrawals, if any. Know more at: https://life.futuregenerali.in/insurance-plans/ulip-plans/bima-advantage-plus future generali dhan vridhi: This be a Limited Premium Payment ULIP with the right blend of Protection & Investment to meet your medium to long term financial goals. feature are: Flexibility to make fund switch to maximize return Partial withdrawal can be make after 5 policy year from inception. Choice of seven robust unit fund to match your risk appetite. Premium(s) pay be eligible for tax benefit a may be available under the provision of Section(s) 80C and 10(10D) a applicable. Know more at: https://life.futuregenerali.in/insurance-plans/ulip-plans/dhan-vridhi future generali Heart and health insurance plan: Presenting the Future Generali Heart and Health Insurance Plan, a comprehensive health protection plan, that safeguard you and your family against financial risk arise out of any defined unforeseen medical emergency. The health insurance plan provide a fixed financial benefit that will help you cover medical costs, especially in case of critical illness which require a long term treatment, cost of second opinions, post treatment nursing and above all a loss of income during the affected period. Know more at: https://life.futuregenerali.in/insurance-plans/health-insurance-plans/heart-and-hea lth-insurance-plan Features of Future Generali single premium anchor plan are: 1) One Payment Many Benefits: Get the convenience of a single premium policy and avoid the hassle of remember and make multiple payments. 2) Choice of Options: Choose accord to your goals! With the Future Generali Single Premium Anchor Plan you can decide which plan option and payout option work best for you and your loved ones. 3) Assured Protection: Secure your family’s happiness a the Future Generali Single Premium Anchor Plan offer life cover throughout the policy term. 4) Guaranteed Lumpsum Benefit: Whether you choose the wealth option or the income option, you get a guaranteed lumpsum benefit at the maturity. 5) Guaranteed Long-Term Income: You get an option to earn guaranteed income from as early a next month till the end of the Policy Term (Max term-40 years; Max Age to earn income- 90 year old) 6) Tax Benefits: : You may be eligible for tax benefit accord to the provision of Income Tax law a amend from time to time Features of future generali new assure wealth plan are: Choose from 2 product option The plan provide 2 flexible option to ensure that you have an ideal cover which be best suit to your saving goals. The option have to be choose at inception and cannot be change during the term of the policy. Guaranteed Additions and Increasing Death Benefit Enjoy the added benefit of Guaranteed Additions which get accumulated, from eighth policy year till the end of the policy term, at a simple rate a a percentage of the Sum Assured under both the options, subject to payment of all due premiums. The Death Benefit increase with the accrual of the Guaranteed Additions under Option 1. Choose your Policy Term and Premium Payment Term Get the flexibility to select your Policy Term and Premium Payment Term a per the available option and depend on your need and fulfill your saving goals. You can buy this plan up to the age of 60 year under Option 1 Tax benefit You may be eligible for tax benefit on the premium(s) you pay and benefit proceeds, accord to the provision of Income Tax laws. These benefit be subject to change a per the current tax laws. Pease consult your tax advisor for more detail Features of future generali long term income plan are: Choose from 2 product option The plan provide 2 flexible option to ensure that you have an ideal cover which be best suit to your saving goals. The option have to be choose at inception and cannot be change during the term of the policy. Guaranteed Additions and Increasing Death Benefit Enjoy the added benefit of Guaranteed Additions which get accumulated, from eighth policy year till the end of the policy term, at a simple rate a a percentage of the Sum Assured under both the options, subject to payment of all due premiums. The Death Benefit increase with the accrual of the Guaranteed Additions under Option 1. Choose your Policy Term and Premium Payment Term Get the flexibility to select your Policy Term and Premium Payment Term a per the available option and depend on your need and fulfill your saving goals. You can buy this plan up to the age of 60 year under Option 1 Tax benefit You may be eligible for tax benefit on the premium(s) you pay and benefit proceeds, accord to the provision of Income Tax laws. These benefit be subject to change a per the current tax laws. Pease consult your tax advisor for more detail Features of future generali money back super plan are: Enjoy guarantee benefit on death, survival and maturity. A Regular pay product with guaranteed money back at defined interval that can be use to take care of plan financial milestone or unplanned expenses. Two Plan Options Choose from two plan option i.e. Option 1 & Option 2, base on your plan financial milestones. These option vary by Sum Assured and the amount of survival benefit payable. Survival Benefits Enjoy survival benefit during the policy term base on the category choose within each option: Platinum: Every year from the end of 6th year till the end of (Policy term minus 1) years. Gold :Every year from the end of 8th year till the end of (Policy term minus 1) years. Silver :Every year from the end of 10th year till the end of (Policy term minus 1) years. Guaranteed AdditionsThe plan offer guaranteed addition at a simple rate a a percentage of the Sum Assured for each complete policy year, start from the end of 8th Policy year till the end of the policy term, subject to payment of all due premiums. Tax Benefits You may be eligible for tax benefit on the premium(s) you pay and benefit proceeds, accord to the provision of Income Tax law a amend from time to time. These benefit be subject to change a per the current tax laws. Please consult your tax advisor for more details. Features of future generali lifetime partner plan are: Increasing Guaranteed Income: This plan provide an increase guaranteed income, in addition to an annual cash bonus, if declared. Choose from 2 Plan Options: Option 1: Immediate Income - With this option, get a guaranteed income along with cash bonus, if declared, Option 2: Deferred Income - With this option, get a guaranteed income along with cash bonus, if declared, from premium payment term plus 3 year a define below under the survival benefit section. Enjoy whole - life cover: Get a whole - life cover till 100 year of age Flexibility to receive income: Choose among yearly, half-yearly, quarterly and monthly frequency to receive income, a per your need. Tax benefits: You may be eligible for tax benefit on the premium(s) you pay and benefit proceeds, accord to the provision of Income Tax laws. Features of future generali assure income plan are: Guaranteed Income – Pay premium only for 11/15 year and get guarantee payout for the next 11/15 years.Additional Income – Receive additional benefit range from 1 to 4.5 time your annualised premium along with the last payout.Death Benefit – Depending on life assured’s age and the term you choose for your policy, life assure will be cover for amount range from 15.3 to 27.0 time your annualised premium, which include the additional benefit.Tax Benefit – You may be eligible for tax benefit on the premium(s) you pay and benefit proceeds, accord to the provision of Section 80C and 10(10D) whichever be applicable, subject to fulfillment of condition a specify in the respective sections. These benefit be subject to change a per the current tax laws. Please consult your tax advisor for more detail Features of future generali new assure plus are: Flexibility to choose any combination of Policy Term and Premium Payment Term base on your financial goals. Opportunity to enhance your Maturity Payout by way of Bonuses. Option to choose between 2 Death Benefit Payout Options. Tax Benefits under section 80C and 10(10D) a per the prevailing tax laws. Features of future generali bima advantage plus are: A unique combination of protection and investment that help fulfil your medium to long term financial goals. Helps maximize your return by invest in a choice of 7 investment fund to match your risk appetite. Flexibility to choose policy term, sum assure and other optional feature like switching, re-direction & partial withdrawals. Premium(s) pay be eligible for tax benefit a may be available under the provision of Section(s) 80C and 10(10D) a applicable. Features of future generali dhan vridhi are: This be a Limited Premium Payment ULIP with the right blend of Protection & Investment to meet your medium to long term financial goals. Flexibility to make fund switch to maximize return Partial withdrawal can be make after 5 policy year from inception. Choice of seven robust unit fund to match your risk appetite. Premium(s) pay be eligible for tax benefit a may be available under the provision of Section(s) 80C and 10(10D) a applicable. Features of future generali Heart and health insurance plan are: Comprehensive Critical Illness Cover The plan provide comprehensive cover against 59 Critical Illnesses and surgical procedure include Heart and Cancer relate ailments. Cover from Early Stages The plan cover you on diagnosis of any of the listed condition whether it be in Minor, Moderate or Major Stage. Inbuilt Death Benefit The death benefit will be available from day 1 i.e. without any wait period. Flexibility to Choose Your Protection Plan The plan provide 4 flexible options. a) Heart Cover , b) Critical Illness Cover, c) Heart Cover with Return of Premium, d) Critical Illness Cover with Return of Premium. Fixed Benefit Payout The plan ensure a fixed lumpsum payout on diagnosis of critical illness or undergoing surgical procedure cover under the plan. Online Discount You can avail of an online discount of 5% on buy it directly from our website https://life.futuregenerali.inFuture Generali India Life Insurance Company Ltd. be headquarter in Mumbai and be establish in 2006. The company have a presence in 1300+ owned and partnered location in India and offer total insurance solution across both, the individual and group front. As of today, Generali be the large shareholder in Future Generali India Life Insurance with a stake of 73.99% in the Company. Generali bring in 190+ year of insurance expertise as well a it global network’s best practices, capabilities, and resources, driving sustainable and profitable growth for communities, clients, employees, and shareholders. Established in 1831, Generali be present in over 50 country in the world, with 82 thousand employee serve 68 million customer globally. *MIT Technology Review (2015) OUR JOURNEY Proven Credentials, Consistent Performance, Pedigree Investors 1357 Self & Partner Branches 1.5 Million Lives cover since inception ₹70.74 Billion Worth of Asset Under Management 95.04% Individual claim settlement ratio for FY 2022-2023 Data a on 31st March 2023 OUR PARTNERS Future Group Future Group operate some of India’s most popular retail chain like Central, Big Bazaar, Food Bazaar, Home Town and eZone. Know More Generrali Generali be an independent, Italian Group, with a strong international presence. Established in 1831, it be among the world’s lead insurer and it be present in over 60 country with total premium income exceed €70 billion in 2016. Know More OUR TEAM Board of Directors Vision, Mission and Values T & C of Appointment of Independent Directors Key Management Person Why Choose Us T & C of Appointment of Independent Directors REPORTS AND DISCLOSURES This section list Future Generali Life’s performance information include annual reports, bonus declaration and public disclosures.\""
      ]
     },
     "execution_count": 19,
     "metadata": {},
     "output_type": "execute_result"
    }
   ],
   "source": [
    "output_lemmatized"
   ]
  },
  {
   "cell_type": "code",
   "execution_count": 20,
   "metadata": {},
   "outputs": [],
   "source": [
    "from langchain.docstore.document import Document\n",
    "\n",
    "doc =  Document(page_content=output_lemmatized, metadata={\"source\": \"local\"})\n",
    "# type(doc)\n",
    "\n",
    "from langchain.text_splitter import RecursiveCharacterTextSplitter\n",
    "text_splitter=RecursiveCharacterTextSplitter(chunk_size=1000,chunk_overlap=200)\n",
    "documents=text_splitter.split_documents([doc])\n",
    "# print(documents)\n",
    "\n",
    "# ## Vector Embedding And Vector Store\n",
    "from langchain_openai import OpenAIEmbeddings\n",
    "# from langchain_community.vectorstores import Chroma\n",
    "# db = Chroma.from_documents(documents,OpenAIEmbeddings())\n",
    "\n",
    "from langchain_community.vectorstores import FAISS\n",
    "\n",
    "db = FAISS.from_documents(documents, OpenAIEmbeddings())\n",
    "db.save_local(r'C:\\Users\\chira\\OneDrive\\Desktop\\frshr\\LLM_roadmap\\future\\faiss_index')\n",
    "# db = FAISS.load_local(r\"C:\\Users\\chira\\OneDrive\\Desktop\\frshr\\LLM_roadmap\\bharti\\faiss_index\", OpenAIEmbeddings(), allow_dangerous_deserialization = True)"
   ]
  },
  {
   "cell_type": "markdown",
   "metadata": {},
   "source": [
    "**More to come. Stay tuned!**"
   ]
  },
  {
   "cell_type": "markdown",
   "metadata": {},
   "source": []
  }
 ],
 "metadata": {
  "kernelspec": {
   "display_name": "Python 3",
   "language": "python",
   "name": "python3"
  },
  "language_info": {
   "codemirror_mode": {
    "name": "ipython",
    "version": 3
   },
   "file_extension": ".py",
   "mimetype": "text/x-python",
   "name": "python",
   "nbconvert_exporter": "python",
   "pygments_lexer": "ipython3",
   "version": "3.10.9"
  }
 },
 "nbformat": 4,
 "nbformat_minor": 1
}
